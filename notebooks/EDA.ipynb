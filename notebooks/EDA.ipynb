{
 "cells": [
  {
   "cell_type": "markdown",
   "id": "b9077474",
   "metadata": {},
   "source": [
    "## Notebook "
   ]
  },
  {
   "cell_type": "code",
   "execution_count": null,
   "id": "1d05eefe",
   "metadata": {
    "vscode": {
     "languageId": "plaintext"
    }
   },
   "outputs": [],
   "source": [
    "import pandas as pd\n",
    "import plotly.express as px\n",
    "# Cargar datos\n",
    "df = pd.read_csv('../vehicles_us.csv')\n",
    "print(\"Primeras filas del dataset:\")\n",
    "print(df.head())\n",
    "print(\"\\nInformación del dataset:\")\n",
    "print(df.info())\n",
    "print(\"\\nEstadísticas descriptivas:\")\n",
    "print(df.describe())\n",
    "# Histograma de precios\n",
    "fig_hist = px.histogram(df, x='price', title='Distribución de Precios')\n",
    "fig_hist.show()\n",
    "# Gráfico de dispersión: precio vs año\n",
    "fig_scatter = px.scatter(df, x='model_year', y='price', \n",
    "                        title='Precio vs Año del Modelo',\n",
    "                        color='condition')\n",
    "fig_scatter.show()\n",
    "# Boxplot por condición\n",
    "fig_box = px.box(df, x='condition', y='price', \n",
    "                title='Distribución de Precios por Condición')\n",
    "fig_box.show()"
   ]
  },
  {
   "cell_type": "code",
   "execution_count": null,
   "id": "8bf15710",
   "metadata": {
    "vscode": {
     "languageId": "plaintext"
    }
   },
   "outputs": [],
   "source": []
  }
 ],
 "metadata": {
  "language_info": {
   "name": "python"
  }
 },
 "nbformat": 4,
 "nbformat_minor": 5
}
